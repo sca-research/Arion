{
 "cells": [
  {
   "cell_type": "markdown",
   "metadata": {},
   "source": [
    "# Gröbner Basis Complexity Estimate For Arion & ArionHash\n",
    "\n",
    "In this SageMath notebook we estimate the complexity of Gröbner basis attacks on Arion & ArionHash."
   ]
  },
  {
   "cell_type": "code",
   "execution_count": 1,
   "metadata": {},
   "outputs": [],
   "source": [
    "def log2(x):\n",
    "    return log(x) / log(2)"
   ]
  },
  {
   "cell_type": "markdown",
   "metadata": {},
   "source": [
    "The cost of term order conversion\n",
    "\\begin{equation*}\n",
    "    \\mathcal{O} \\left( D^\\omega \\right).\n",
    "\\end{equation*}"
   ]
  },
  {
   "cell_type": "markdown",
   "metadata": {},
   "source": [
    "## Arion\n",
    "\n",
    "We hypothesize that the quotient space dimension of Arion is\n",
    "\n",
    "$$ D = \\dim_{\\mathbb{F}_p} \\left( \\mathcal{F}_\\textsf{Arion} \\right) (n, r, d_1, d_2) = \\left( d_2 \\cdot \\left( d_1 + 2 \\right)^{n - 1} \\right)^r, \\qquad n \\geq 1. $$"
   ]
  },
  {
   "cell_type": "code",
   "execution_count": 2,
   "metadata": {},
   "outputs": [],
   "source": [
    "def arion_term_order_conversion_complexity(n, r, d_1, d_2, omega=2):\n",
    "    compl = log2(d_2)\n",
    "    compl += (n - 1) * log(d_1)\n",
    "    compl *= omega * r\n",
    "    return float(compl)"
   ]
  },
  {
   "cell_type": "code",
   "execution_count": 3,
   "metadata": {},
   "outputs": [
    {
     "name": "stdout",
     "output_type": "stream",
     "text": [
      "omega = 2\n",
      "d_2 = 121\n",
      "\n",
      "n \t r \t d_1 \t kappa\n",
      "3 \t 8 \t 3 \t 146\n",
      "4 \t 7 \t 3 \t 144\n",
      "5 \t 6 \t 3 \t 136\n",
      "6 \t 6 \t 3 \t 149\n",
      "8 \t 5 \t 3 \t 147\n",
      "9 \t 5 \t 3 \t 158\n",
      "10 \t 4 \t 3 \t 135\n",
      "12 \t 4 \t 3 \t 153\n",
      "3 \t 7 \t 5 \t 142\n",
      "4 \t 6 \t 5 \t 141\n",
      "5 \t 5 \t 5 \t 134\n",
      "6 \t 5 \t 5 \t 150\n",
      "8 \t 4 \t 5 \t 146\n",
      "9 \t 4 \t 5 \t 159\n",
      "10 \t 3 \t 5 \t 129\n",
      "12 \t 3 \t 5 \t 148\n"
     ]
    }
   ],
   "source": [
    "omega = 2\n",
    "d_2 = 121\n",
    "\n",
    "params = [#[n, r, d_1, d_2]\n",
    "           [3, 8, 3],\n",
    "           [4, 7, 3],\n",
    "           [5, 6, 3], \n",
    "           [6, 6, 3],\n",
    "           [8, 5, 3],\n",
    "           [9, 5, 3],\n",
    "           [10, 4, 3],\n",
    "           [12, 4, 3],\n",
    "            \n",
    "           [3, 7, 5],\n",
    "           [4, 6, 5],\n",
    "           [5, 5, 5], \n",
    "           [6, 5, 5],\n",
    "           [8, 4, 5],\n",
    "           [9, 4, 5],\n",
    "           [10, 3, 5],\n",
    "           [12, 3, 5],\n",
    "           ]\n",
    "\n",
    "print(\"omega =\", omega)\n",
    "print(\"d_2 =\", d_2)\n",
    "print(\"\")\n",
    "\n",
    "print(\"n\", \"\\t\",\n",
    "      \"r\", \"\\t\",\n",
    "      \"d_1\", \"\\t\",\n",
    "      \"kappa\")\n",
    "\n",
    "for param in params:\n",
    "    n = param[0]\n",
    "    r = param[1]\n",
    "    d_1 = param[2]\n",
    "    compl = ceil(arion_term_order_conversion_complexity(n, r, d_1, d_2, omega=omega))\n",
    "    print(n, \"\\t\",\n",
    "          r, \"\\t\",\n",
    "          d_1, \"\\t\",\n",
    "          compl)"
   ]
  },
  {
   "cell_type": "markdown",
   "metadata": {},
   "source": [
    "## ArionHash\n",
    "\n",
    "It has been proven in https://eprint.iacr.org/2024/347 that a rate $1$ ArionHash CICO problem has quotient space dimension\n",
    "\n",
    "We hypothesize that the quotient space dimension of ArionHash is\n",
    "\n",
    "\n",
    "$$ \\dim_{\\mathbb{F}_p} \\left( \\mathcal{F}_\\textsf{ArionHash} \\right) (n, r, d_1, d_2) = 3 \\cdot d_1 \\cdot \\Big( d_2 \\cdot \\big( 2^{n - 1} \\cdot (d_1 + 1) - 1 \\big) \\Big)^{r - 1}, \\qquad n \\geq 1. $$"
   ]
  },
  {
   "cell_type": "code",
   "execution_count": 4,
   "metadata": {},
   "outputs": [],
   "source": [
    "def arion_hash_groebner_basis_attack_comlexity(n, r, d_1, d_2, omega=2):\n",
    "    compl = omega * log2(d_2)\n",
    "    compl += log2(2**(n - 1) * (e + 1) - 1)\n",
    "    compl *= (r - 1)\n",
    "    compl += log2(3 * d_1)\n",
    "    return float(compl)"
   ]
  },
  {
   "cell_type": "code",
   "execution_count": 5,
   "metadata": {},
   "outputs": [
    {
     "name": "stdout",
     "output_type": "stream",
     "text": [
      "omega = 2\n",
      "d_2 = 121\n",
      "\n",
      "n \t r \t d_1 \t kappa\n",
      "3 \t 9 \t 3 \t 145\n",
      "4 \t 8 \t 3 \t 134\n",
      "5 \t 7 \t 3 \t 122\n",
      "6 \t 7 \t 3 \t 128\n",
      "8 \t 7 \t 3 \t 140\n",
      "9 \t 7 \t 3 \t 146\n",
      "10 \t 7 \t 3 \t 152\n",
      "12 \t 6 \t 3 \t 137\n",
      "3 \t 8 \t 5 \t 128\n",
      "4 \t 8 \t 5 \t 135\n",
      "5 \t 8 \t 5 \t 142\n",
      "6 \t 7 \t 5 \t 129\n",
      "8 \t 7 \t 5 \t 141\n",
      "9 \t 7 \t 5 \t 147\n",
      "10 \t 6 \t 5 \t 128\n",
      "12 \t 6 \t 5 \t 138\n"
     ]
    }
   ],
   "source": [
    "omega = 2\n",
    "d_2 = 121\n",
    "\n",
    "params = [#[n, r, d_1, d_2]\n",
    "           [3, 9, 3],\n",
    "           [4, 8, 3],\n",
    "           [5, 7, 3], \n",
    "           [6, 7, 3],\n",
    "           [8, 7, 3],\n",
    "           [9, 7, 3],\n",
    "           [10, 7, 3],\n",
    "           [12, 6, 3],\n",
    "            \n",
    "           [3, 8, 5],\n",
    "           [4, 8, 5],\n",
    "           [5, 8, 5], \n",
    "           [6, 7, 5],\n",
    "           [8, 7, 5],\n",
    "           [9, 7, 5],\n",
    "           [10, 6, 5],\n",
    "           [12, 6, 5],\n",
    "           ]\n",
    "\n",
    "print(\"omega =\", omega)\n",
    "print(\"d_2 =\", d_2)\n",
    "print(\"\")\n",
    "\n",
    "print(\"n\", \"\\t\",\n",
    "      \"r\", \"\\t\",\n",
    "      \"d_1\", \"\\t\",\n",
    "      \"kappa\")\n",
    "\n",
    "for param in params:\n",
    "    n = param[0]\n",
    "    r = param[1]\n",
    "    d_1 = param[2]\n",
    "    compl = ceil(arion_hash_groebner_basis_attack_comlexity(n, r, d_1, d_2, omega=omega))\n",
    "    print(n, \"\\t\",\n",
    "          r, \"\\t\",\n",
    "          d_1, \"\\t\",\n",
    "          compl)"
   ]
  },
  {
   "cell_type": "code",
   "execution_count": 6,
   "metadata": {},
   "outputs": [
    {
     "name": "stdout",
     "output_type": "stream",
     "text": [
      "omega = 2\n",
      "d_2 = 257\n",
      "\n",
      "n \t r \t d_1 \t kappa\n",
      "3 \t 8 \t 3 \t 142\n",
      "4 \t 7 \t 3 \t 129\n",
      "5 \t 7 \t 3 \t 135\n",
      "6 \t 7 \t 3 \t 141\n",
      "8 \t 6 \t 3 \t 128\n",
      "9 \t 6 \t 3 \t 133\n",
      "10 \t 6 \t 3 \t 138\n",
      "12 \t 6 \t 3 \t 148\n",
      "3 \t 8 \t 5 \t 143\n",
      "4 \t 7 \t 5 \t 130\n",
      "5 \t 7 \t 5 \t 136\n",
      "6 \t 7 \t 5 \t 142\n",
      "8 \t 6 \t 5 \t 129\n",
      "9 \t 6 \t 5 \t 134\n",
      "10 \t 6 \t 5 \t 139\n",
      "12 \t 6 \t 5 \t 149\n"
     ]
    }
   ],
   "source": [
    "omega = 2\n",
    "d_2 = 257\n",
    "\n",
    "params = [#[n, r, d_1, d_2]\n",
    "           [3, 8, 3],\n",
    "           [4, 7, 3],\n",
    "           [5, 7, 3], \n",
    "           [6, 7, 3],\n",
    "           [8, 6, 3],\n",
    "           [9, 6, 3],\n",
    "           [10, 6, 3],\n",
    "           [12, 6, 3],\n",
    "            \n",
    "           [3, 8, 5],\n",
    "           [4, 7, 5],\n",
    "           [5, 7, 5], \n",
    "           [6, 7, 5],\n",
    "           [8, 6, 5],\n",
    "           [9, 6, 5],\n",
    "           [10, 6, 5],\n",
    "           [12, 6, 5],\n",
    "           ]\n",
    "\n",
    "print(\"omega =\", omega)\n",
    "print(\"d_2 =\", d_2)\n",
    "print(\"\")\n",
    "\n",
    "print(\"n\", \"\\t\",\n",
    "      \"r\", \"\\t\",\n",
    "      \"d_1\", \"\\t\",\n",
    "      \"kappa\")\n",
    "\n",
    "for param in params:\n",
    "    n = param[0]\n",
    "    r = param[1]\n",
    "    d_1 = param[2]\n",
    "    compl = ceil(arion_hash_groebner_basis_attack_comlexity(n, r, d_1, d_2, omega=omega))\n",
    "    print(n, \"\\t\",\n",
    "          r, \"\\t\",\n",
    "          d_1, \"\\t\",\n",
    "          compl)"
   ]
  }
 ],
 "metadata": {
  "kernelspec": {
   "display_name": "SageMath 9.3",
   "language": "sage",
   "name": "sagemath"
  },
  "language_info": {
   "codemirror_mode": {
    "name": "ipython",
    "version": 3
   },
   "file_extension": ".py",
   "mimetype": "text/x-python",
   "name": "python",
   "nbconvert_exporter": "python",
   "pygments_lexer": "ipython3",
   "version": "3.7.10"
  }
 },
 "nbformat": 4,
 "nbformat_minor": 4
}
