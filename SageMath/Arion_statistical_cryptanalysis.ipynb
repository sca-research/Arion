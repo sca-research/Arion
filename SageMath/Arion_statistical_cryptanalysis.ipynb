{
 "cells": [
  {
   "cell_type": "markdown",
   "metadata": {},
   "source": [
    "# Statistical Cryptanalysis Of Arion\n",
    "\n",
    "In this SageMath notebook we compute the security levels for differential and linear cryptanalysis of Arion."
   ]
  },
  {
   "cell_type": "code",
   "execution_count": 1,
   "metadata": {},
   "outputs": [],
   "source": [
    "def log2(n):\n",
    "    return log(n) / log(2)"
   ]
  },
  {
   "cell_type": "markdown",
   "metadata": {},
   "source": [
    "## Differential Cryptanalysis"
   ]
  },
  {
   "cell_type": "markdown",
   "metadata": {},
   "source": [
    "### Differential Trail\n",
    "Arion's security level against a differential trail is estimated via\n",
    "$$\\kappa \\leq r \\cdot \\big( \\log_2 (p) - \\log_2 (d_2) \\big),$$\n",
    "where $p$ is the size of the finite field and $d_2$ the exponent of a permutation monomial."
   ]
  },
  {
   "cell_type": "code",
   "execution_count": 2,
   "metadata": {},
   "outputs": [],
   "source": [
    "def differential_security_level(q, r, e):\n",
    "    out = r * (log2(q) - log2(e))\n",
    "    return float(out)"
   ]
  },
  {
   "cell_type": "code",
   "execution_count": 3,
   "metadata": {},
   "outputs": [
    {
     "name": "stdout",
     "output_type": "stream",
     "text": [
      "Size: 2^60\n",
      "r \t d_2 \t kappa_diff\n",
      "1 \t 257 \t 51 \t\n",
      "2 \t 257 \t 103 \t\n",
      "3 \t 257 \t 155 \t\n",
      "\n",
      "\n",
      "Size: 2^120\n",
      "r \t d_2 \t kappa_diff\n",
      "1 \t 257 \t 111 \t\n",
      "2 \t 257 \t 223 \t\n",
      "\n",
      "\n",
      "Size: 2^250\n",
      "r \t d_2 \t kappa_diff\n",
      "1 \t 257 \t 241 \t\n",
      "\n",
      "\n"
     ]
    }
   ],
   "source": [
    "d_2 = 257\n",
    "size = [60, 120, 250]\n",
    "r = 9\n",
    "max_security_level = 128\n",
    "\n",
    "for n in size:\n",
    "    q = 2**n\n",
    "    print(\"Size: 2^\" + str(n))\n",
    "    print(\"r\", \"\\t\",\n",
    "          \"d_2\", \"\\t\",\n",
    "          \"kappa_diff\")\n",
    "    r = 1\n",
    "    stop = False\n",
    "    while not stop:\n",
    "        level = floor(differential_security_level(q, r, d_2))\n",
    "        print(r, \"\\t\",\n",
    "              d_2, \"\\t\",\n",
    "              level, \"\\t\")\n",
    "        if level > max_security_level:\n",
    "            stop = True\n",
    "        r += 1\n",
    "    print(\"\\n\")"
   ]
  },
  {
   "cell_type": "markdown",
   "metadata": {},
   "source": [
    "## Linear Cryptanalysis"
   ]
  },
  {
   "cell_type": "markdown",
   "metadata": {},
   "source": [
    "### Linear Trail\n",
    "Arion's security level against linear cryptanalysis is estimated via\n",
    "$$ \\kappa \\leq \\left( \\frac{\\log_2 (p)}{2} - \\log_2 (d_2 - 1) \\right)^r, $$\n",
    "where $p$ is the size of the finite field and $d_2$ the exponent of a permutation monomial."
   ]
  },
  {
   "cell_type": "code",
   "execution_count": 4,
   "metadata": {},
   "outputs": [],
   "source": [
    "def linear_security_level(q, r, e):\n",
    "    out = r * (log2(q) / 2 - log2(e - 1))\n",
    "    return float(out)"
   ]
  },
  {
   "cell_type": "code",
   "execution_count": 5,
   "metadata": {},
   "outputs": [
    {
     "name": "stdout",
     "output_type": "stream",
     "text": [
      "d_2:  257 \n",
      "\n",
      "2^N \t r \t kappa_lin\n",
      "60 \t 6 \t 131\n",
      "120 \t 3 \t 155\n",
      "250 \t 2 \t 234\n"
     ]
    }
   ],
   "source": [
    "d_2 = 257\n",
    "params = [#[N, r]\n",
    "           [60, 6], \n",
    "           [120, 3], \n",
    "           [250, 2],\n",
    "           ]\n",
    "\n",
    "print(\"d_2: \", d_2, \"\\n\")\n",
    "print(\"2^N\", \"\\t\",\n",
    "      \"r\", \"\\t\",\n",
    "      \"kappa_lin\")\n",
    "for param in params:\n",
    "    N = param[0]\n",
    "    r = param[1]\n",
    "    level = floor(linear_security_level(2^N, r, d_2,))\n",
    "    print(N, \"\\t\",\n",
    "          r, \"\\t\",\n",
    "          level)"
   ]
  },
  {
   "cell_type": "markdown",
   "metadata": {},
   "source": [
    "## Truncated Differential Cryptanalysis"
   ]
  },
  {
   "cell_type": "markdown",
   "metadata": {},
   "source": [
    "### Weight 1 Input/Output Truncated Differentials\n",
    "Arion's security level against truncated differential of weight $1$ in the first round and restricted differential hull in the second round is estimated via\n",
    "$$\\kappa \\leq n \\cdot \\left( \\log_2 \\left( p \\right) - \\log_2 \\left( d \\right) \\right),$$\n",
    "where $p$ is the size of the finite field, $n$ the number of branches and $d_2$ the exponent of a permutation monomial."
   ]
  },
  {
   "cell_type": "code",
   "execution_count": 6,
   "metadata": {},
   "outputs": [],
   "source": [
    "def restricted__hull_truncated_differential_weight_one_security_level(q, n, e):\n",
    "    out = n * (log2(q) - log2(e))\n",
    "    return float(out)"
   ]
  },
  {
   "cell_type": "code",
   "execution_count": 7,
   "metadata": {},
   "outputs": [
    {
     "name": "stdout",
     "output_type": "stream",
     "text": [
      "d_2:  257 \n",
      "\n",
      "2^N \t n \t kappa_trun\n",
      "60 \t 3 \t 155\n",
      "120 \t 2 \t 223\n",
      "250 \t 1 \t 241\n"
     ]
    }
   ],
   "source": [
    "d_2 = 257\n",
    "params = [#[N, n]\n",
    "           [60, 3], \n",
    "           [120, 2], \n",
    "           [250, 1],\n",
    "           ]\n",
    "\n",
    "print(\"d_2: \", d_2, \"\\n\")\n",
    "print(\"2^N\", \"\\t\",\n",
    "      \"n\", \"\\t\",\n",
    "      \"kappa_trun\")\n",
    "for param in params:\n",
    "    N = param[0]\n",
    "    n = param[1]\n",
    "    level = floor(restricted__hull_truncated_differential_weight_one_security_level(2^N, n, d_2))\n",
    "    print(N, \"\\t\",\n",
    "          n, \"\\t\",\n",
    "          level)"
   ]
  },
  {
   "cell_type": "markdown",
   "metadata": {},
   "source": [
    "### Two Round Truncated Differentials\n",
    "Arion's security level against two round truncated differential is estimated via\n",
    "$$\\kappa \\leq n \\cdot \\left( \\log_2 \\left( p \\right) - \\log_2 \\left( d \\right) \\right),$$\n",
    "where $p$ is the size of the finite field, $n$ the number of branches and $d_2$ the exponent of a permutation monomial."
   ]
  },
  {
   "cell_type": "code",
   "execution_count": 8,
   "metadata": {},
   "outputs": [],
   "source": [
    "def two_round_truncated_differential_security_level(q, r, e):\n",
    "    out = (r - 2) * (log2(q) - log2(e))\n",
    "    return float(out)"
   ]
  },
  {
   "cell_type": "code",
   "execution_count": 9,
   "metadata": {},
   "outputs": [
    {
     "name": "stdout",
     "output_type": "stream",
     "text": [
      "d_2:  257 \n",
      "\n",
      "2^N \t r - 2 \t kappa_trun\n",
      "60 \t 3 \t 155\n",
      "120 \t 2 \t 223\n",
      "250 \t 1 \t 241\n"
     ]
    }
   ],
   "source": [
    "d_2 = 257\n",
    "params = [#[N, r]\n",
    "           [60, 5], \n",
    "           [120, 4], \n",
    "           [250, 3],\n",
    "           ]\n",
    "\n",
    "print(\"d_2: \", d_2, \"\\n\")\n",
    "print(\"2^N\", \"\\t\",\n",
    "      \"r - 2\", \"\\t\",\n",
    "      \"kappa_trun\")\n",
    "for param in params:\n",
    "    N = param[0]\n",
    "    r = param[1]\n",
    "    level = floor(two_round_truncated_differential_security_level(2^N, r, d_2,))\n",
    "    print(N, \"\\t\",\n",
    "          r - 2, \"\\t\",\n",
    "          level)"
   ]
  }
 ],
 "metadata": {
  "kernelspec": {
   "display_name": "SageMath 9.3",
   "language": "sage",
   "name": "sagemath"
  },
  "language_info": {
   "codemirror_mode": {
    "name": "ipython",
    "version": 3
   },
   "file_extension": ".py",
   "mimetype": "text/x-python",
   "name": "python",
   "nbconvert_exporter": "python",
   "pygments_lexer": "ipython3",
   "version": "3.7.10"
  }
 },
 "nbformat": 4,
 "nbformat_minor": 4
}
