{
 "cells": [
  {
   "cell_type": "markdown",
   "metadata": {},
   "source": [
    "# Statistical Cryptanalysis Of Arion\n",
    "\n",
    "In this SageMath notebook we compute the security levels for differential and linear cryptanalysis of Arion."
   ]
  },
  {
   "cell_type": "code",
   "execution_count": 1,
   "metadata": {},
   "outputs": [],
   "source": [
    "def log2(n):\n",
    "    return log(n) / log(2)"
   ]
  },
  {
   "cell_type": "markdown",
   "metadata": {},
   "source": [
    "## Differential Cryptanalysis"
   ]
  },
  {
   "cell_type": "markdown",
   "metadata": {},
   "source": [
    "### Differential Trail\n",
    "Arion's security level against a differential trail is estimated via\n",
    "$$\\kappa \\leq r \\cdot \\big( \\log_2 (p) - \\log_2 (d_2) \\big),$$\n",
    "where $p$ is the size of the finite field and $d_2$ the exponent of a permutation monomial."
   ]
  },
  {
   "cell_type": "code",
   "execution_count": 2,
   "metadata": {},
   "outputs": [],
   "source": [
    "def differential_security_level(q, r, e):\n",
    "    out = r * (log2(q) - log2(e))\n",
    "    return float(out)"
   ]
  },
  {
   "cell_type": "code",
   "execution_count": 3,
   "metadata": {},
   "outputs": [
    {
     "name": "stdout",
     "output_type": "stream",
     "text": [
      "Size: 2^60\n",
      "r \t d_2 \t kappa_diff\n",
      "1 \t 257 \t 51 \t\n",
      "2 \t 257 \t 103 \t\n",
      "3 \t 257 \t 155 \t\n",
      "\n",
      "\n",
      "Size: 2^120\n",
      "r \t d_2 \t kappa_diff\n",
      "1 \t 257 \t 111 \t\n",
      "2 \t 257 \t 223 \t\n",
      "\n",
      "\n",
      "Size: 2^250\n",
      "r \t d_2 \t kappa_diff\n",
      "1 \t 257 \t 241 \t\n",
      "\n",
      "\n"
     ]
    }
   ],
   "source": [
    "d_2 = 257\n",
    "size = [60, 120, 250]\n",
    "r = 9\n",
    "max_security_level = 128\n",
    "\n",
    "for n in size:\n",
    "    q = 2**n\n",
    "    print(\"Size: 2^\" + str(n))\n",
    "    print(\"r\", \"\\t\",\n",
    "          \"d_2\", \"\\t\",\n",
    "          \"kappa_diff\")\n",
    "    r = 1\n",
    "    stop = False\n",
    "    while not stop:\n",
    "        level = floor(differential_security_level(q, r, d_2))\n",
    "        print(r, \"\\t\",\n",
    "              d_2, \"\\t\",\n",
    "              level, \"\\t\")\n",
    "        if level > max_security_level:\n",
    "            stop = True\n",
    "        r += 1\n",
    "    print(\"\\n\")"
   ]
  },
  {
   "cell_type": "markdown",
   "metadata": {},
   "source": [
    "### Restricted Differential Hull\n",
    "Arion's security level against the restructed differential hull\n",
    "$$\\kappa \\leq r \\cdot \\Big( \\log_2 \\left( p \\right) - \\log_2 \\left( d_2 \\right) \\Big) - \\left( r - 1 \\right) \\cdot \\log_2 \\left( M \\right),$$\n",
    "where $p$ is the size of the finite field, $r$ the number of rounds, $d_2$ the exponent of a permutation monomial and $M < (p - 1) \\cdot n$ is the size of the restricted differential hull."
   ]
  },
  {
   "cell_type": "code",
   "execution_count": 4,
   "metadata": {},
   "outputs": [],
   "source": [
    "def restricted_differential_hull_security_level(q, r, e, M=1):\n",
    "    out = r * (log2(q) - log2(e))\n",
    "    out = out - (r - 1) * log2(M)\n",
    "    return float(out)"
   ]
  },
  {
   "cell_type": "code",
   "execution_count": 5,
   "metadata": {},
   "outputs": [
    {
     "name": "stdout",
     "output_type": "stream",
     "text": [
      "d_2:  257 \n",
      "\n",
      "Size: 2^60\n",
      "r \t data \t kappa_diff_hull\n",
      "1 \t 30 \t 51\n",
      "2 \t 30 \t 73\n",
      "3 \t 30 \t 95\n",
      "4 \t 30 \t 117\n",
      "5 \t 30 \t 139\n",
      "6 \t 30 \t 161\n",
      "\n",
      "\n",
      "Size: 2^120\n",
      "r \t data \t kappa_diff_hull\n",
      "1 \t 60 \t 111\n",
      "2 \t 60 \t 163\n",
      "3 \t 60 \t 215\n",
      "4 \t 60 \t 267\n",
      "5 \t 60 \t 319\n",
      "6 \t 60 \t 371\n",
      "\n",
      "\n",
      "Size: 2^250\n",
      "r \t data \t kappa_diff_hull\n",
      "1 \t 125 \t 241\n",
      "2 \t 125 \t 358\n",
      "3 \t 125 \t 475\n",
      "4 \t 125 \t 592\n",
      "5 \t 125 \t 709\n",
      "6 \t 125 \t 826\n",
      "\n",
      "\n"
     ]
    }
   ],
   "source": [
    "d_2 = 257\n",
    "size = [60, 120, 250]\n",
    "rounds = 6\n",
    "\n",
    "print(\"d_2: \", d_2, \"\\n\")\n",
    "\n",
    "for N in size:\n",
    "    print(\"Size: 2^\" + str(N))\n",
    "    print(\"r\", \"\\t\",\n",
    "          \"data\", \"\\t\",\n",
    "          \"kappa_diff_hull\")\n",
    "    for r in range(1, rounds + 1):\n",
    "        data = N / 2\n",
    "        level = floor(restricted_differential_hull_security_level(2**N, r, d_2, 2**data))\n",
    "        print(r, \"\\t\",\n",
    "              data, \"\\t\",\n",
    "              level)\n",
    "    print(\"\\n\")"
   ]
  },
  {
   "cell_type": "markdown",
   "metadata": {},
   "source": [
    "## Linear Cryptanalysis"
   ]
  },
  {
   "cell_type": "markdown",
   "metadata": {},
   "source": [
    "### Linear Trail\n",
    "Arion's security level against linear cryptanalysis is estimated via\n",
    "$$ \\kappa \\leq 2 + r \\cdot \\log_2 (p) - 2 \\cdot r \\cdot \\log_2 (d_2) - \\log_2(D), $$\n",
    "where $p$ is the size of the finite field, $d_2$ the exponent of a permutation monomial and $D$ the amount of data that is used for an attack. "
   ]
  },
  {
   "cell_type": "code",
   "execution_count": 6,
   "metadata": {},
   "outputs": [],
   "source": [
    "def linear_security_level(q, r, e, D):\n",
    "    out = 2 + r * log2(q) - 2 * r * log2(e) - log2(D)\n",
    "    return float(out)"
   ]
  },
  {
   "cell_type": "code",
   "execution_count": 7,
   "metadata": {},
   "outputs": [
    {
     "name": "stdout",
     "output_type": "stream",
     "text": [
      "Size: 2^60\n",
      "r \t d_2 \t data \t kappa_lin\n",
      "2 \t 257 \t 60 \t 29\n",
      "3 \t 257 \t 60 \t 73\n",
      "4 \t 257 \t 60 \t 117\n",
      "5 \t 257 \t 60 \t 161\n",
      "3 \t 257 \t 120 \t 13\n",
      "4 \t 257 \t 120 \t 57\n",
      "5 \t 257 \t 120 \t 101\n",
      "6 \t 257 \t 120 \t 145\n",
      "4 \t 257 \t 180 \t -3\n",
      "5 \t 257 \t 180 \t 41\n",
      "6 \t 257 \t 180 \t 85\n",
      "7 \t 257 \t 180 \t 129\n",
      "5 \t 257 \t 240 \t -19\n",
      "6 \t 257 \t 240 \t 25\n",
      "7 \t 257 \t 240 \t 69\n",
      "8 \t 257 \t 240 \t 113\n",
      "9 \t 257 \t 240 \t 157\n",
      "\n",
      "\n",
      "Size: 2^120\n",
      "r \t d_2 \t data \t kappa_lin\n",
      "2 \t 257 \t 120 \t 89\n",
      "3 \t 257 \t 120 \t 193\n",
      "3 \t 257 \t 240 \t 73\n",
      "4 \t 257 \t 240 \t 177\n",
      "4 \t 257 \t 360 \t 57\n",
      "5 \t 257 \t 360 \t 161\n",
      "5 \t 257 \t 480 \t 41\n",
      "6 \t 257 \t 480 \t 145\n",
      "\n",
      "\n",
      "Size: 2^250\n",
      "r \t d_2 \t data \t kappa_lin\n",
      "2 \t 257 \t 250 \t 219\n",
      "3 \t 257 \t 500 \t 203\n",
      "4 \t 257 \t 750 \t 187\n",
      "5 \t 257 \t 1000 \t 171\n",
      "\n",
      "\n"
     ]
    }
   ],
   "source": [
    "d_2 = 257\n",
    "size = [60, 120, 250]\n",
    "max_block_size = 4\n",
    "max_security_level = 128\n",
    "\n",
    "for n in size:\n",
    "    q = 2**n\n",
    "    print(\"Size: 2^\" + str(n))\n",
    "    print(\"r\", \"\\t\",\n",
    "          \"d_2\", \"\\t\",\n",
    "          \"data\", \"\\t\",\n",
    "          \"kappa_lin\")\n",
    "    for m in range(1, max_block_size + 1):\n",
    "        stop = False\n",
    "        r = 1\n",
    "        while not stop:\n",
    "            level = 1\n",
    "            if q**r > q**m:\n",
    "                level = floor(linear_security_level(q, r, d_2, q**m))\n",
    "                print(r, \"\\t\", \n",
    "                      d_2, \"\\t\",\n",
    "                      n * m, \"\\t\",\n",
    "                      level)\n",
    "            if level > max_security_level:\n",
    "                stop = True\n",
    "            r += 1\n",
    "    print(\"\\n\")"
   ]
  },
  {
   "cell_type": "markdown",
   "metadata": {
    "vscode": {
     "languageId": "python"
    }
   },
   "source": [
    "### Restricted Linear Hull\n",
    "Arion's security level against the restricted linear hull is estimated via\n",
    "$$\\kappa \\leq r \\cdot \\Big( \\log_2 \\left( p \\right) - 2 \\cdot \\log_2 \\left( d_2 - 1 \\right) \\Big) - \\left( r - 1 \\right) \\cdot \\log_2 \\left( M \\right),$$\n",
    "where $p$ is the size of the finite field, $r$ the number of rounds, $d_2$ the exponent of a permutation monomial and $M < (p - 1) \\cdot n$ is the size of the restricted differential hull."
   ]
  },
  {
   "cell_type": "code",
   "execution_count": 8,
   "metadata": {},
   "outputs": [],
   "source": [
    "def restricted_linear_hull_security_level(q, r, e, M=1):\n",
    "    out = r * (log2(q) - 2 * log2(e - 1))\n",
    "    out = out - (r - 1) * log2(M)\n",
    "    return float(out)"
   ]
  },
  {
   "cell_type": "code",
   "execution_count": 9,
   "metadata": {},
   "outputs": [
    {
     "name": "stdout",
     "output_type": "stream",
     "text": [
      "d_2:  257 \n",
      "\n",
      "Size: 2^60\n",
      "r \t data \t kappa_lin_hull\n",
      "1 \t 30 \t 51\n",
      "2 \t 30 \t 73\n",
      "3 \t 30 \t 95\n",
      "4 \t 30 \t 117\n",
      "5 \t 30 \t 139\n",
      "6 \t 30 \t 161\n",
      "\n",
      "\n",
      "Size: 2^120\n",
      "r \t data \t kappa_lin_hull\n",
      "1 \t 60 \t 111\n",
      "2 \t 60 \t 163\n",
      "3 \t 60 \t 215\n",
      "4 \t 60 \t 267\n",
      "5 \t 60 \t 319\n",
      "6 \t 60 \t 371\n",
      "\n",
      "\n",
      "Size: 2^250\n",
      "r \t data \t kappa_lin_hull\n",
      "1 \t 125 \t 241\n",
      "2 \t 125 \t 358\n",
      "3 \t 125 \t 475\n",
      "4 \t 125 \t 592\n",
      "5 \t 125 \t 709\n",
      "6 \t 125 \t 826\n",
      "\n",
      "\n"
     ]
    }
   ],
   "source": [
    "d_2 = 257\n",
    "size = [60, 120, 250]\n",
    "rounds = 6\n",
    "\n",
    "print(\"d_2: \", d_2, \"\\n\")\n",
    "\n",
    "for N in size:\n",
    "    print(\"Size: 2^\" + str(N))\n",
    "    print(\"r\", \"\\t\",\n",
    "          \"data\", \"\\t\",\n",
    "          \"kappa_lin_hull\")\n",
    "    for r in range(1, rounds + 1):\n",
    "        data = N / 2\n",
    "        level = floor(restricted_differential_hull_security_level(2**N, r, d_2, 2**data))\n",
    "        print(r, \"\\t\",\n",
    "              data, \"\\t\",\n",
    "              level)\n",
    "    print(\"\\n\")"
   ]
  },
  {
   "cell_type": "markdown",
   "metadata": {},
   "source": [
    "## Truncated Differential Cryptanalysis"
   ]
  },
  {
   "cell_type": "markdown",
   "metadata": {},
   "source": [
    "### Weight 1 Input/Output Truncated Differentials\n",
    "Arion's security level against truncated differential of weight $1$ in the first round and restricted differential hull in the second round is estimated via\n",
    "$$\\kappa \\leq n \\cdot \\left( \\log_2 \\left( p \\right) - \\log_2 \\left( d \\right) \\right) - \\log_2 \\left( M \\right),$$\n",
    "where $p$ is the size of the finite field, $n$ the number of branches, $d_2$ the exponent of a permutation monomial and $M < (p - 1) \\cdot n$ is the size of the restricted differential hull."
   ]
  },
  {
   "cell_type": "code",
   "execution_count": 10,
   "metadata": {},
   "outputs": [],
   "source": [
    "def restricted__hull_truncated_differential_weight_one_security_level(q, n, e, M=1):\n",
    "    out = n * (log2(q) - log2(e))\n",
    "    out = out - log2(M)\n",
    "    return float(out)"
   ]
  },
  {
   "cell_type": "code",
   "execution_count": 11,
   "metadata": {},
   "outputs": [
    {
     "name": "stdout",
     "output_type": "stream",
     "text": [
      "d_2:  257 \n",
      "\n",
      "2^N \t n \t 2^M \t kappa_trun\n",
      "60 \t 4 \t 100 \t 107\n",
      "120 \t 3 \t 120 \t 215\n",
      "250 \t 3 \t 250 \t 475\n"
     ]
    }
   ],
   "source": [
    "d_2 = 257\n",
    "params = [#[N, n, M]\n",
    "           [60, 4, 100], \n",
    "           [120, 3, 120], \n",
    "           [250, 3, 250],\n",
    "           ]\n",
    "\n",
    "print(\"d_2: \", d_2, \"\\n\")\n",
    "print(\"2^N\", \"\\t\",\n",
    "      \"n\", \"\\t\",\n",
    "      \"2^M\", \"\\t\",\n",
    "      \"kappa_trun\")\n",
    "for param in params:\n",
    "    N = param[0]\n",
    "    n = param[1]\n",
    "    M = param[2]\n",
    "    level = floor(restricted__hull_truncated_differential_weight_one_security_level(2^N, n, d_2, 2^M))\n",
    "    print(N, \"\\t\",\n",
    "          n, \"\\t\",\n",
    "          M, \"\\t\",\n",
    "          level)"
   ]
  },
  {
   "cell_type": "markdown",
   "metadata": {},
   "source": [
    "### Two Round Truncated Differentials\n",
    "Arion's security level against two round truncated differential is estimated via\n",
    "$$\\kappa \\leq n \\cdot \\left( \\log_2 \\left( p \\right) - \\log_2 \\left( d \\right) \\right) - \\log_2 \\left( M \\right),$$\n",
    "where $p$ is the size of the finite field, $n$ the number of branches, $d_2$ the exponent of a permutation monomial and $M < (p - 1) \\cdot n$ is the size of the restricted differential hull."
   ]
  },
  {
   "cell_type": "code",
   "execution_count": 12,
   "metadata": {},
   "outputs": [],
   "source": [
    "def restricted_hull_two_round_truncated_differential_security_level(q, r, e, M=1):\n",
    "    out = (r - 2) * (log2(q) - log2(e) - log2(M))\n",
    "    return float(out)"
   ]
  },
  {
   "cell_type": "code",
   "execution_count": 13,
   "metadata": {},
   "outputs": [
    {
     "name": "stdout",
     "output_type": "stream",
     "text": [
      "d_2:  257 \n",
      "\n",
      "2^N \t r - 2 \t 2^M \t kappa_trun\n",
      "60 \t 4 \t 30 \t 87\n",
      "120 \t 3 \t 60 \t 155\n",
      "250 \t 2 \t 125 \t 233\n"
     ]
    }
   ],
   "source": [
    "d_2 = 257\n",
    "params = [#[N, r, M]\n",
    "           [60, 6, 30], \n",
    "           [120, 5, 60], \n",
    "           [250, 4, 125],\n",
    "           ]\n",
    "\n",
    "print(\"d_2: \", d_2, \"\\n\")\n",
    "print(\"2^N\", \"\\t\",\n",
    "      \"r - 2\", \"\\t\",\n",
    "      \"2^M\", \"\\t\",\n",
    "      \"kappa_trun\")\n",
    "for param in params:\n",
    "    N = param[0]\n",
    "    r = param[1]\n",
    "    M = param[2]\n",
    "    level = floor(restricted_hull_two_round_truncated_differential_security_level(2^N, r, d_2, 2^M))\n",
    "    print(N, \"\\t\",\n",
    "          r - 2, \"\\t\",\n",
    "          M, \"\\t\",\n",
    "          level)"
   ]
  }
 ],
 "metadata": {
  "kernelspec": {
   "display_name": "SageMath 9.3",
   "language": "sage",
   "name": "sagemath"
  },
  "language_info": {
   "codemirror_mode": {
    "name": "ipython",
    "version": 3
   },
   "file_extension": ".py",
   "mimetype": "text/x-python",
   "name": "python",
   "nbconvert_exporter": "python",
   "pygments_lexer": "ipython3",
   "version": "3.7.10"
  }
 },
 "nbformat": 4,
 "nbformat_minor": 4
}
